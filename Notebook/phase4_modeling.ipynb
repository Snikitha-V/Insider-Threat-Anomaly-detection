{
 "cells": [
  {
   "cell_type": "code",
   "execution_count": 15,
   "id": "2155e334",
   "metadata": {},
   "outputs": [],
   "source": [
    "import pandas as pd\n",
    "import numpy as np\n",
    "import matplotlib.pyplot as plt\n",
    "import seaborn as sns\n",
    "\n",
    "from sklearn.ensemble import IsolationForest\n",
    "from sklearn.preprocessing import StandardScaler\n",
    "from sklearn.metrics import classification_report, confusion_matrix"
   ]
  },
  {
   "cell_type": "code",
   "execution_count": 16,
   "id": "b728523c",
   "metadata": {},
   "outputs": [
    {
     "name": "stdout",
     "output_type": "stream",
     "text": [
      "      user  total_logins  unique_days  after_hours  unique_machines  \\\n",
      "0  AAE0190            37           19            0                1   \n",
      "1  AAF0535            37           19            0                1   \n",
      "2  AAF0791            37           19            0                1   \n",
      "3  AAL0706            37           19           19                1   \n",
      "4  AAM0658            37           19           18                1   \n",
      "\n",
      "   usb_count  usb_days          employee_name  user_id   O   C   E   A   N  \n",
      "0        0.0       0.0   August Armando Evans  AAE0190  36  30  14  50  29  \n",
      "1        0.0       0.0  Athena Amelia Foreman  AAF0535  17  21  36  33  31  \n",
      "2        0.0       0.0  Aladdin Abraham Foley  AAF0791  14  40  40  50  34  \n",
      "3        0.0       0.0       April Alika Levy  AAL0706  37  14  28  13  25  \n",
      "4        0.0       0.0       Abel Adam Morton  AAM0658  43  35  37  36  22  \n",
      "<class 'pandas.core.frame.DataFrame'>\n",
      "RangeIndex: 1000 entries, 0 to 999\n",
      "Data columns (total 14 columns):\n",
      " #   Column           Non-Null Count  Dtype  \n",
      "---  ------           --------------  -----  \n",
      " 0   user             1000 non-null   object \n",
      " 1   total_logins     1000 non-null   int64  \n",
      " 2   unique_days      1000 non-null   int64  \n",
      " 3   after_hours      1000 non-null   int64  \n",
      " 4   unique_machines  1000 non-null   int64  \n",
      " 5   usb_count        1000 non-null   float64\n",
      " 6   usb_days         1000 non-null   float64\n",
      " 7   employee_name    1000 non-null   object \n",
      " 8   user_id          1000 non-null   object \n",
      " 9   O                1000 non-null   int64  \n",
      " 10  C                1000 non-null   int64  \n",
      " 11  E                1000 non-null   int64  \n",
      " 12  A                1000 non-null   int64  \n",
      " 13  N                1000 non-null   int64  \n",
      "dtypes: float64(2), int64(9), object(3)\n",
      "memory usage: 109.5+ KB\n",
      "None\n"
     ]
    }
   ],
   "source": [
    "# Load engineered features\n",
    "features_df = pd.read_csv(\"user_features.csv\")\n",
    "\n",
    "print(features_df.head())\n",
    "print(features_df.info())"
   ]
  },
  {
   "cell_type": "code",
   "execution_count": 19,
   "id": "e473fd2a",
   "metadata": {},
   "outputs": [
    {
     "name": "stdout",
     "output_type": "stream",
     "text": [
      "Original columns: ['user', 'total_logins', 'unique_days', 'after_hours', 'unique_machines', 'usb_count', 'usb_days', 'employee_name', 'user_id', 'O', 'C', 'E', 'A', 'N']\n",
      "Data types:\n",
      "user                object\n",
      "total_logins         int64\n",
      "unique_days          int64\n",
      "after_hours          int64\n",
      "unique_machines      int64\n",
      "usb_count          float64\n",
      "usb_days           float64\n",
      "employee_name       object\n",
      "user_id             object\n",
      "O                    int64\n",
      "C                    int64\n",
      "E                    int64\n",
      "A                    int64\n",
      "N                    int64\n",
      "dtype: object\n",
      "Dropping identifier columns: ['user_id', 'user', 'employee_name']\n",
      "\n",
      "Numeric columns found: ['total_logins', 'unique_days', 'after_hours', 'unique_machines', 'usb_count', 'usb_days', 'O', 'C', 'E', 'A', 'N']\n",
      "Feature matrix shape: (1000, 11)\n",
      "Data successfully scaled!\n",
      "Scaled data shape: (1000, 11)\n"
     ]
    }
   ],
   "source": [
    "# Prepare data for modeling\n",
    "print(\"Original columns:\", features_df.columns.tolist())\n",
    "print(\"Data types:\")\n",
    "print(features_df.dtypes)\n",
    "\n",
    "# Drop common identifier/string columns first (so downstream selection is numeric-only)\n",
    "drop_candidates = [c for c in [\"user_id\", \"user\", \"employee_name\", \"employee\"] if c in features_df.columns]\n",
    "if drop_candidates:\n",
    "    print(\"Dropping identifier columns:\", drop_candidates)\n",
    "features_clean = features_df.drop(columns=drop_candidates, errors=\"ignore\")\n",
    "\n",
    "# Select only numeric columns for modeling\n",
    "numeric_columns = features_clean.select_dtypes(include=[np.number]).columns.tolist()\n",
    "print(f\"\\nNumeric columns found: {numeric_columns}\")\n",
    "\n",
    "# Create feature matrix (only numeric columns)\n",
    "X = features_clean[numeric_columns].copy()\n",
    "print(f\"Feature matrix shape: {X.shape}\")\n",
    "\n",
    "# Safety check: ensure no object columns remain\n",
    "obj_cols = X.select_dtypes(include=['object']).columns.tolist()\n",
    "if obj_cols:\n",
    "    raise ValueError(f\"Non-numeric columns still present in X: {obj_cols}\")\n",
    "\n",
    "# Scale the numeric data\n",
    "scaler = StandardScaler()\n",
    "X_scaled = scaler.fit_transform(X)\n",
    "print(\"Data successfully scaled!\")\n",
    "print(f\"Scaled data shape: {X_scaled.shape}\")"
   ]
  },
  {
   "cell_type": "code",
   "execution_count": null,
   "id": "a6d9ce37",
   "metadata": {},
   "outputs": [],
   "source": []
  },
  {
   "cell_type": "code",
   "execution_count": null,
   "id": "8f31139e",
   "metadata": {},
   "outputs": [],
   "source": []
  }
 ],
 "metadata": {
  "kernelspec": {
   "display_name": "venv",
   "language": "python",
   "name": "python3"
  },
  "language_info": {
   "codemirror_mode": {
    "name": "ipython",
    "version": 3
   },
   "file_extension": ".py",
   "mimetype": "text/x-python",
   "name": "python",
   "nbconvert_exporter": "python",
   "pygments_lexer": "ipython3",
   "version": "3.13.5"
  }
 },
 "nbformat": 4,
 "nbformat_minor": 5
}
