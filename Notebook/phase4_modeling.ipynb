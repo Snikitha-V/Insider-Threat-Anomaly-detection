{
 "cells": [
  {
   "cell_type": "code",
   "execution_count": 15,
   "id": "2155e334",
   "metadata": {},
   "outputs": [],
   "source": [
    "import pandas as pd\n",
    "import numpy as np\n",
    "import matplotlib.pyplot as plt\n",
    "import seaborn as sns\n",
    "\n",
    "from sklearn.ensemble import IsolationForest\n",
    "from sklearn.preprocessing import StandardScaler\n",
    "from sklearn.metrics import classification_report, confusion_matrix"
   ]
  },
  {
   "cell_type": "code",
   "execution_count": 16,
   "id": "b728523c",
   "metadata": {},
   "outputs": [
    {
     "name": "stdout",
     "output_type": "stream",
     "text": [
      "      user  total_logins  unique_days  after_hours  unique_machines  \\\n",
      "0  AAE0190            37           19            0                1   \n",
      "1  AAF0535            37           19            0                1   \n",
      "2  AAF0791            37           19            0                1   \n",
      "3  AAL0706            37           19           19                1   \n",
      "4  AAM0658            37           19           18                1   \n",
      "\n",
      "   usb_count  usb_days          employee_name  user_id   O   C   E   A   N  \n",
      "0        0.0       0.0   August Armando Evans  AAE0190  36  30  14  50  29  \n",
      "1        0.0       0.0  Athena Amelia Foreman  AAF0535  17  21  36  33  31  \n",
      "2        0.0       0.0  Aladdin Abraham Foley  AAF0791  14  40  40  50  34  \n",
      "3        0.0       0.0       April Alika Levy  AAL0706  37  14  28  13  25  \n",
      "4        0.0       0.0       Abel Adam Morton  AAM0658  43  35  37  36  22  \n",
      "<class 'pandas.core.frame.DataFrame'>\n",
      "RangeIndex: 1000 entries, 0 to 999\n",
      "Data columns (total 14 columns):\n",
      " #   Column           Non-Null Count  Dtype  \n",
      "---  ------           --------------  -----  \n",
      " 0   user             1000 non-null   object \n",
      " 1   total_logins     1000 non-null   int64  \n",
      " 2   unique_days      1000 non-null   int64  \n",
      " 3   after_hours      1000 non-null   int64  \n",
      " 4   unique_machines  1000 non-null   int64  \n",
      " 5   usb_count        1000 non-null   float64\n",
      " 6   usb_days         1000 non-null   float64\n",
      " 7   employee_name    1000 non-null   object \n",
      " 8   user_id          1000 non-null   object \n",
      " 9   O                1000 non-null   int64  \n",
      " 10  C                1000 non-null   int64  \n",
      " 11  E                1000 non-null   int64  \n",
      " 12  A                1000 non-null   int64  \n",
      " 13  N                1000 non-null   int64  \n",
      "dtypes: float64(2), int64(9), object(3)\n",
      "memory usage: 109.5+ KB\n",
      "None\n"
     ]
    }
   ],
   "source": [
    "# Load engineered features\n",
    "features_df = pd.read_csv(\"user_features.csv\")\n",
    "\n",
    "print(features_df.head())\n",
    "print(features_df.info())"
   ]
  },
  {
   "cell_type": "code",
   "execution_count": 20,
   "id": "e473fd2a",
   "metadata": {},
   "outputs": [
    {
     "name": "stdout",
     "output_type": "stream",
     "text": [
      "Original columns: ['user', 'total_logins', 'unique_days', 'after_hours', 'unique_machines', 'usb_count', 'usb_days', 'employee_name', 'user_id', 'O', 'C', 'E', 'A', 'N']\n",
      "Data types:\n",
      "user                object\n",
      "total_logins         int64\n",
      "unique_days          int64\n",
      "after_hours          int64\n",
      "unique_machines      int64\n",
      "usb_count          float64\n",
      "usb_days           float64\n",
      "employee_name       object\n",
      "user_id             object\n",
      "O                    int64\n",
      "C                    int64\n",
      "E                    int64\n",
      "A                    int64\n",
      "N                    int64\n",
      "dtype: object\n",
      "Dropping identifier columns: ['user_id', 'user', 'employee_name']\n",
      "\n",
      "Numeric columns found: ['total_logins', 'unique_days', 'after_hours', 'unique_machines', 'usb_count', 'usb_days', 'O', 'C', 'E', 'A', 'N']\n",
      "Feature matrix shape: (1000, 11)\n",
      "Data successfully scaled!\n",
      "Scaled data shape: (1000, 11)\n"
     ]
    }
   ],
   "source": [
    "# Prepare data for modeling\n",
    "print(\"Original columns:\", features_df.columns.tolist())\n",
    "print(\"Data types:\")\n",
    "print(features_df.dtypes)\n",
    "\n",
    "# Drop common identifier/string columns first (so downstream selection is numeric-only)\n",
    "drop_candidates = [c for c in [\"user_id\", \"user\", \"employee_name\", \"employee\"] if c in features_df.columns]\n",
    "if drop_candidates:\n",
    "    print(\"Dropping identifier columns:\", drop_candidates)\n",
    "features_clean = features_df.drop(columns=drop_candidates, errors=\"ignore\")\n",
    "\n",
    "# Select only numeric columns for modeling\n",
    "numeric_columns = features_clean.select_dtypes(include=[np.number]).columns.tolist()\n",
    "print(f\"\\nNumeric columns found: {numeric_columns}\")\n",
    "\n",
    "# Create feature matrix (only numeric columns)\n",
    "X = features_clean[numeric_columns].copy()\n",
    "print(f\"Feature matrix shape: {X.shape}\")\n",
    "\n",
    "# Safety check: ensure no object columns remain\n",
    "obj_cols = X.select_dtypes(include=['object']).columns.tolist()\n",
    "if obj_cols:\n",
    "    raise ValueError(f\"Non-numeric columns still present in X: {obj_cols}\")\n",
    "\n",
    "# Scale the numeric data\n",
    "scaler = StandardScaler()\n",
    "X_scaled = scaler.fit_transform(X)\n",
    "print(\"Data successfully scaled!\")\n",
    "print(f\"Scaled data shape: {X_scaled.shape}\")"
   ]
  },
  {
   "cell_type": "code",
   "execution_count": 21,
   "id": "a6d9ce37",
   "metadata": {},
   "outputs": [],
   "source": [
    "# Initialize model\n",
    "iso_forest = IsolationForest(\n",
    "    n_estimators=200,\n",
    "    contamination=0.05,  # % of anomalies expected\n",
    "    random_state=42\n",
    ")\n",
    "\n",
    "# Fit model\n",
    "iso_forest.fit(X_scaled)\n",
    "\n",
    "# Predict anomalies\n",
    "features_df[\"anomaly_score\"] = iso_forest.decision_function(X_scaled)\n",
    "features_df[\"anomaly_label\"] = iso_forest.predict(X_scaled)\n",
    "\n",
    "# Convert labels: -1 = anomaly, 1 = normal\n",
    "features_df[\"anomaly_label\"] = features_df[\"anomaly_label\"].map({1: 0, -1: 1})"
   ]
  },
  {
   "cell_type": "code",
   "execution_count": 22,
   "id": "8f31139e",
   "metadata": {},
   "outputs": [],
   "source": [
    "features_df.to_csv(\"results/anomaly_scores_by_user.csv\", index=False)"
   ]
  },
  {
   "cell_type": "code",
   "execution_count": 23,
   "id": "4f09b226",
   "metadata": {},
   "outputs": [
    {
     "data": {
      "image/png": "[encoded data removed]",
      "text/plain": [
       "<Figure size 640x480 with 1 Axes>"
      ]
     },
     "metadata": {},
     "output_type": "display_data"
    },
    {
     "name": "stdout",
     "output_type": "stream",
     "text": [
      "anomaly_label\n",
      "0    950\n",
      "1     50\n",
      "Name: count, dtype: int64\n"
     ]
    }
   ],
   "source": [
    "sns.histplot(features_df[\"anomaly_score\"], kde=True)\n",
    "plt.title(\"Distribution of Anomaly Scores\")\n",
    "plt.show()\n",
    "\n",
    "# Count anomalies vs normals\n",
    "print(features_df[\"anomaly_label\"].value_counts())\n"
   ]
  },
  {
   "cell_type": "code",
   "execution_count": 24,
   "id": "bfd64e35",
   "metadata": {},
   "outputs": [],
   "source": [
    "if \"label\" in features_df.columns:\n",
    "    print(classification_report(features_df[\"label\"], features_df[\"anomaly_label\"]))\n",
    "    print(confusion_matrix(features_df[\"label\"], features_df[\"anomaly_label\"]))"
   ]
  },
  {
   "cell_type": "code",
   "execution_count": 25,
   "id": "b5040481",
   "metadata": {},
   "outputs": [
    {
     "data": {
      "text/plain": [
       "['models/isolation_forest.pkl']"
      ]
     },
     "execution_count": 25,
     "metadata": {},
     "output_type": "execute_result"
    }
   ],
   "source": [
    "import joblib\n",
    "joblib.dump(iso_forest, \"models/isolation_forest.pkl\")\n"
   ]
  },
  {
   "cell_type": "code",
   "execution_count": 27,
   "id": "11448849",
   "metadata": {},
   "outputs": [
    {
     "name": "stdout",
     "output_type": "stream",
     "text": [
      "Available columns: ['user', 'total_logins', 'unique_days', 'after_hours', 'unique_machines', 'usb_count', 'usb_days', 'employee_name', 'user_id', 'O', 'C', 'E', 'A', 'N', 'anomaly_score', 'anomaly_label']\n"
     ]
    }
   ],
   "source": [
    "print(\"Available columns:\", features_df.columns.tolist())\n"
   ]
  },
  {
   "cell_type": "code",
   "execution_count": 28,
   "id": "0d549815",
   "metadata": {},
   "outputs": [],
   "source": [
    "from sklearn.preprocessing import StandardScaler\n",
    "from sklearn.model_selection import train_test_split\n",
    "from sklearn.ensemble import IsolationForest\n",
    "from sklearn.metrics import classification_report, confusion_matrix\n"
   ]
  },
  {
   "cell_type": "code",
   "execution_count": 29,
   "id": "4da46d2b",
   "metadata": {},
   "outputs": [],
   "source": [
    "# 1. Set target\n",
    "target_column = \"anomaly_label\"\n",
    "\n",
    "y = features_df[target_column].astype(int).reset_index(drop=True)\n"
   ]
  },
  {
   "cell_type": "code",
   "execution_count": 30,
   "id": "3b38dea2",
   "metadata": {},
   "outputs": [
    {
     "name": "stdout",
     "output_type": "stream",
     "text": [
      "Final feature columns: ['total_logins', 'unique_days', 'after_hours', 'unique_machines', 'usb_count', 'usb_days', 'O', 'C', 'E', 'A', 'N']\n"
     ]
    }
   ],
   "source": [
    "# 2. Drop target + IDs from features\n",
    "drop_cols = [\"user\", \"employee_name\", \"user_id\", \"anomaly_label\", \"anomaly_score\"]\n",
    "X = features_df.drop(columns=drop_cols, errors=\"ignore\")\n",
    "\n",
    "# Keep only numeric features\n",
    "X = X.select_dtypes(include=[np.number])\n",
    "\n",
    "print(\"Final feature columns:\", X.columns.tolist())"
   ]
  },
  {
   "cell_type": "code",
   "execution_count": 31,
   "id": "80056a81",
   "metadata": {},
   "outputs": [
    {
     "name": "stdout",
     "output_type": "stream",
     "text": [
      "Scaled feature matrix: (1000, 11)\n",
      "Target vector: (1000,)\n"
     ]
    }
   ],
   "source": [
    "# 3. Scale features\n",
    "scaler = StandardScaler()\n",
    "X_scaled = scaler.fit_transform(X)\n",
    "\n",
    "print(\"Scaled feature matrix:\", X_scaled.shape)\n",
    "print(\"Target vector:\", y.shape)"
   ]
  },
  {
   "cell_type": "code",
   "execution_count": 39,
   "id": "cf5c8650",
   "metadata": {},
   "outputs": [],
   "source": [
    "# 4. Train-test split\n",
    "X_train, X_test, y_train, y_test = train_test_split(\n",
    "    X_scaled, y, test_size=0.3, random_state=42, stratify=y\n",
    ")"
   ]
  },
  {
   "cell_type": "code",
   "execution_count": 40,
   "id": "db02aa92",
   "metadata": {},
   "outputs": [],
   "source": [
    "# 5. Train Isolation Forest (or replace with other model)\n",
    "model = IsolationForest(n_estimators=1000, contamination=0.05, random_state=42)\n",
    "model.fit(X_train)\n",
    "\n",
    "# Predict (convert -1 to 1, 1 to 0 to align with labels)\n",
    "y_pred = model.predict(X_test)\n",
    "y_pred = [1 if p == -1 else 0 for p in y_pred]"
   ]
  },
  {
   "cell_type": "code",
   "execution_count": 38,
   "id": "87054197",
   "metadata": {},
   "outputs": [
    {
     "name": "stdout",
     "output_type": "stream",
     "text": [
      "\n",
      "Confusion Matrix:\n",
      "[[190   0]\n",
      " [  0  10]]\n",
      "\n",
      "Classification Report:\n",
      "              precision    recall  f1-score   support\n",
      "\n",
      "           0       1.00      1.00      1.00       190\n",
      "           1       1.00      1.00      1.00        10\n",
      "\n",
      "    accuracy                           1.00       200\n",
      "   macro avg       1.00      1.00      1.00       200\n",
      "weighted avg       1.00      1.00      1.00       200\n",
      "\n"
     ]
    }
   ],
   "source": [
    "# 6. Evaluate\n",
    "print(\"\\nConfusion Matrix:\")\n",
    "print(confusion_matrix(y_test, y_pred))\n",
    "\n",
    "print(\"\\nClassification Report:\")\n",
    "print(classification_report(y_test, y_pred))"
   ]
  },
  {
   "cell_type": "code",
   "execution_count": 1,
   "id": "5d4d1700",
   "metadata": {},
   "outputs": [
    {
     "name": "stdout",
     "output_type": "stream",
     "text": [
      "Shape: (191, 6)\n",
      "\n",
      "Columns: ['dataset', 'scenario', 'details', 'user', 'start', 'end']\n",
      "\n",
      "Sample data:\n",
      "   dataset  scenario     details     user                start  \\\n",
      "0      2.0         1      r2.csv  ONS0995     3/6/2010 1:41:56   \n",
      "1      3.1         1  r3.1-1.csv  CSF0929  07/01/2010 01:24:58   \n",
      "2      3.1         2  r3.1-2.csv  CCH0959  08/02/2010 10:34:31   \n",
      "3      3.2         1  r3.2-1.csv  RCW0822  09/29/2010 21:10:27   \n",
      "4      3.2         2  r3.2-2.csv  JCE0258  07/12/2010 08:16:02   \n",
      "\n",
      "                   end  \n",
      "0    3/20/2010 8:10:12  \n",
      "1  07/16/2010 06:52:00  \n",
      "2  09/30/2010 15:04:03  \n",
      "3  10/15/2010 06:34:52  \n",
      "4  09/03/2010 16:16:29  \n"
     ]
    }
   ],
   "source": [
    "import pandas as pd\n",
    "\n",
    "insiders_df = pd.read_csv(\"insiders.csv\")\n",
    "print(\"Shape:\", insiders_df.shape)\n",
    "print(\"\\nColumns:\", insiders_df.columns.tolist())\n",
    "print(\"\\nSample data:\")\n",
    "print(insiders_df.head())"
   ]
  },
  {
   "cell_type": "code",
   "execution_count": 2,
   "id": "37596a94",
   "metadata": {},
   "outputs": [
    {
     "name": "stdout",
     "output_type": "stream",
     "text": [
      "(1000, 14) (191, 6)\n"
     ]
    }
   ],
   "source": [
    "features_df = pd.read_csv(\"user_features.csv\")\n",
    "insiders_df = pd.read_csv(\"insiders.csv\")\n",
    "print(features_df.shape, insiders_df.shape)"
   ]
  },
  {
   "cell_type": "code",
   "execution_count": 3,
   "id": "1a081dbb",
   "metadata": {},
   "outputs": [],
   "source": [
    "features_df[\"user\"] = features_df[\"user\"].astype(str).str.strip().str.upper()\n",
    "insiders_df[\"user\"] = insiders_df[\"user\"].astype(str).str.strip().str.upper()"
   ]
  },
  {
   "cell_type": "code",
   "execution_count": null,
   "id": "d322b59c",
   "metadata": {},
   "outputs": [
    {
     "name": "stdout",
     "output_type": "stream",
     "text": [
      "ground_truth\n",
      "0    930\n",
      "1     70\n",
      "Name: count, dtype: int64\n"
     ]
    }
   ],
   "source": [
    "features_df[\"ground_truth\"] = features_df[\"user\"].isin(insiders_df[\"user\"]).astype(int)\n",
    "print(features_df[\"ground_truth\"].value_counts())"
   ]
  },
  {
   "cell_type": "code",
   "execution_count": 12,
   "id": "0fcd6f71",
   "metadata": {},
   "outputs": [
    {
     "name": "stdout",
     "output_type": "stream",
     "text": [
      "Ground-truth counts:\n",
      " ground_truth\n",
      "0    930\n",
      "1     70\n",
      "Name: count, dtype: int64\n",
      "Predicted counts:\n",
      " anomaly_label\n",
      "0    950\n",
      "1     50\n",
      "Name: count, dtype: int64\n",
      "\n",
      "Confusion Matrix:\n",
      " [[892  38]\n",
      " [ 58  12]]\n",
      "\n",
      "Classification Report:\n",
      "               precision    recall  f1-score   support\n",
      "\n",
      "      Normal       0.94      0.96      0.95       930\n",
      "     Insider       0.24      0.17      0.20        70\n",
      "\n",
      "    accuracy                           0.90      1000\n",
      "   macro avg       0.59      0.57      0.57      1000\n",
      "weighted avg       0.89      0.90      0.90      1000\n",
      "\n"
     ]
    }
   ],
   "source": [
    "from sklearn.metrics import confusion_matrix, classification_report\n",
    "import os\n",
    "\n",
    "# Actual labels (from insider truth file)\n",
    "y_true = features_df[\"ground_truth\"].astype(int)\n",
    "\n",
    "# Load saved predictions (results/anomaly_scores_by_user.csv) and align by user\n",
    "res_path = os.path.join(\"results\", \"anomaly_scores_by_user.csv\")\n",
    "if not os.path.exists(res_path):\n",
    "    raise FileNotFoundError(f\"Results file not found at {res_path}\")\n",
    "res = pd.read_csv(res_path)\n",
    "\n",
    "# Standardize user column if present\n",
    "if 'user' in features_df.columns and 'user' in res.columns:\n",
    "    left = features_df[['user']].copy()\n",
    "    left['user'] = left['user'].astype(str).str.strip().str.upper()\n",
    "    res['user'] = res['user'].astype(str).str.strip().str.upper()\n",
    "    merged = left.merge(res, on='user', how='left')\n",
    "else:\n",
    "    # No user alignment possible — try to use order-preserving predictions\n",
    "    merged = res.copy()\n",
    "\n",
    "# Decide predicted labels: prefer anomaly_label column, else infer from anomaly_score using contamination\n",
    "if 'anomaly_label' in merged.columns:\n",
    "    y_pred = merged['anomaly_label'].fillna(0).astype(int)\n",
    "elif 'anomaly_score' in merged.columns:\n",
    "    # Anomaly score from IsolationForest: lower -> more anomalous\n",
    "    scores = merged['anomaly_score'].astype(float)\n",
    "    # default contamination fallback\n",
    "    contamination = 0.05\n",
    "    thresh = np.nanpercentile(scores.dropna(), 100 * contamination)\n",
    "    # predict anomaly if score <= thresh (anomalies are low scores)\n",
    "    y_pred = (scores <= thresh).astype(int).fillna(0)\n",
    "else:\n",
    "    raise KeyError('No anomaly_label or anomaly_score column found in results file.')\n",
    "\n",
    "# If merged includes extra rows or alignment used, ensure lengths match by selecting same index as features_df\n",
    "if 'user' in features_df.columns and 'user' in merged.columns:\n",
    "    # merged length equals features_df\n",
    "    pass\n",
    "else:\n",
    "    # If shapes mismatch, attempt to trim/pad\n",
    "    if len(y_pred) != len(y_true):\n",
    "        raise ValueError(f\"Length mismatch after loading predictions: y_true={len(y_true)}, y_pred={len(y_pred)}. Ensure results file aligns with features_df or contains 'user' column for merging.\")\n",
    "\n",
    "# Print class distribution and diagnostics\n",
    "print(\"Ground-truth counts:\\n\", y_true.value_counts())\n",
    "print(\"Predicted counts:\\n\", pd.Series(y_pred).value_counts())\n",
    "\n",
    "# Generate metrics\n",
    "cm = confusion_matrix(y_true, y_pred)\n",
    "report = classification_report(y_true, y_pred, target_names=[\"Normal\", \"Insider\"], zero_division=0)\n",
    "\n",
    "print(\"\\nConfusion Matrix:\\n\", cm)\n",
    "print(\"\\nClassification Report:\\n\", report)"
   ]
  },
  {
   "cell_type": "code",
   "execution_count": null,
   "id": "a15a180e",
   "metadata": {},
   "outputs": [],
   "source": []
  }
 ],
 "metadata": {
  "kernelspec": {
   "display_name": "venv",
   "language": "python",
   "name": "python3"
  },
  "language_info": {
   "codemirror_mode": {
    "name": "ipython",
    "version": 3
   },
   "file_extension": ".py",
   "mimetype": "text/x-python",
   "name": "python",
   "nbconvert_exporter": "python",
   "pygments_lexer": "ipython3",
   "version": "3.13.5"
  }
 },
 "nbformat": 4,
 "nbformat_minor": 5
}
